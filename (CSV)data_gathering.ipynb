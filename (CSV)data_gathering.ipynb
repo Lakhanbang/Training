{
  "nbformat": 4,
  "nbformat_minor": 0,
  "metadata": {
    "colab": {
      "provenance": [],
      "authorship_tag": "ABX9TyO6BYqS8kN1QJ6C3ubpmM0/",
      "include_colab_link": true
    },
    "kernelspec": {
      "name": "python3",
      "display_name": "Python 3"
    },
    "language_info": {
      "name": "python"
    }
  },
  "cells": [
    {
      "cell_type": "markdown",
      "metadata": {
        "id": "view-in-github",
        "colab_type": "text"
      },
      "source": [
        "<a href=\"https://colab.research.google.com/github/Lakhanbang/Training/blob/main/(CSV)data_gathering.ipynb\" target=\"_parent\"><img src=\"https://colab.research.google.com/assets/colab-badge.svg\" alt=\"Open In Colab\"/></a>"
      ]
    },
    {
      "cell_type": "code",
      "execution_count": null,
      "metadata": {
        "id": "DmbMBQ8qZHId"
      },
      "outputs": [],
      "source": [
        "import pandas as pd\n"
      ]
    },
    {
      "cell_type": "markdown",
      "source": [
        "Opening a local csv file"
      ],
      "metadata": {
        "id": "4CJagYFDZj0b"
      }
    },
    {
      "cell_type": "code",
      "source": [
        "df= pd.read_csv('#path of file')"
      ],
      "metadata": {
        "id": "feFraLu_ZfqL"
      },
      "execution_count": null,
      "outputs": []
    },
    {
      "cell_type": "markdown",
      "source": [
        "Opening a csv ffile from an URL"
      ],
      "metadata": {
        "id": "x3S9m807Zwil"
      }
    },
    {
      "cell_type": "code",
      "source": [
        "import requests\n",
        "from io import StringIO\n",
        "\n",
        "url= '#path of file'\n",
        "headers= {'User-Agent': 'Mozilla/5.0 (Macintosh; Intel Mac OS X 10.12; rv:55.0) Gecko/20100101 Firefox/55.0',}\n",
        "req= requests.get(url, headers=headers)\n",
        "data= StringIO(req.text)\n",
        "pd.read_csv(data)"
      ],
      "metadata": {
        "id": "ShMt-zagZfsw"
      },
      "execution_count": null,
      "outputs": []
    },
    {
      "cell_type": "markdown",
      "source": [
        "Use columns parameter(when we want a limited columns)"
      ],
      "metadata": {
        "id": "EkmZtAk0bLdk"
      }
    },
    {
      "cell_type": "code",
      "source": [
        "pd.read_csv('#path of file', usecols=['col1', 'col2'])"
      ],
      "metadata": {
        "id": "KBFtL2XrZfwH"
      },
      "execution_count": null,
      "outputs": []
    },
    {
      "cell_type": "markdown",
      "source": [
        "Data type converter"
      ],
      "metadata": {
        "id": "eTTlA4TYbi93"
      }
    },
    {
      "cell_type": "code",
      "source": [
        "pd.read_csv('#path of file',dtype={'#column name': data type in which to convert })"
      ],
      "metadata": {
        "id": "SU07ZtyhZfzY"
      },
      "execution_count": null,
      "outputs": []
    },
    {
      "cell_type": "markdown",
      "source": [
        "Handling Dates"
      ],
      "metadata": {
        "id": "mnUUxeKXdYUp"
      }
    },
    {
      "cell_type": "code",
      "source": [
        "pd.read_csv('#path of file', parse_dates=['#column name'])"
      ],
      "metadata": {
        "id": "F60PTwhOZf2k"
      },
      "execution_count": null,
      "outputs": []
    },
    {
      "cell_type": "markdown",
      "source": [
        "Loading a huge dataset in chunks"
      ],
      "metadata": {
        "id": "C11LE8OZeD11"
      }
    },
    {
      "cell_type": "code",
      "source": [
        "dfs = pd.read_csv('#path of file', chunksize=10000)\n",
        "for chunk in dfs:\n",
        "    print(chunk.shape)"
      ],
      "metadata": {
        "id": "ST5yskQhZf6E"
      },
      "execution_count": null,
      "outputs": []
    }
  ]
}