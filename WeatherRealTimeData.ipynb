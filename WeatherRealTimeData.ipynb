{
  "nbformat": 4,
  "nbformat_minor": 0,
  "metadata": {
    "colab": {
      "provenance": [],
      "authorship_tag": "ABX9TyP/tY6GRm99sywzdR+dhiiJ"
    },
    "kernelspec": {
      "name": "python3",
      "display_name": "Python 3"
    },
    "language_info": {
      "name": "python"
    }
  },
  "cells": [
    {
      "cell_type": "code",
      "source": [
        "!pip install requests\n"
      ],
      "metadata": {
        "colab": {
          "base_uri": "https://localhost:8080/"
        },
        "id": "myQA4MjJOu5J",
        "outputId": "e4912b98-5acb-4db6-e024-188aa71e618d"
      },
      "execution_count": null,
      "outputs": [
        {
          "output_type": "stream",
          "name": "stdout",
          "text": [
            "Requirement already satisfied: requests in /usr/local/lib/python3.11/dist-packages (2.32.3)\n",
            "Requirement already satisfied: charset-normalizer<4,>=2 in /usr/local/lib/python3.11/dist-packages (from requests) (3.4.2)\n",
            "Requirement already satisfied: idna<4,>=2.5 in /usr/local/lib/python3.11/dist-packages (from requests) (3.10)\n",
            "Requirement already satisfied: urllib3<3,>=1.21.1 in /usr/local/lib/python3.11/dist-packages (from requests) (2.4.0)\n",
            "Requirement already satisfied: certifi>=2017.4.17 in /usr/local/lib/python3.11/dist-packages (from requests) (2025.6.15)\n"
          ]
        }
      ]
    },
    {
      "cell_type": "code",
      "source": [
        "import requests\n",
        "\n",
        "def get_weather(city, api_key):\n",
        "    base_url = \"http://api.openweathermap.org/data/2.5/weather\"\n",
        "\n",
        "    params = {\n",
        "        \"q\": city,\n",
        "        \"appid\": api_key,\n",
        "        \"units\": \"metric\"  # For temperature in Celsius\n",
        "    }\n",
        "\n",
        "    response = requests.get(base_url, params=params)\n",
        "\n",
        "    if response.status_code == 200:\n",
        "        data = response.json()\n",
        "        print(f\"Weather in {data['name']}, {data['sys']['country']}:\")\n",
        "        print(f\" Temperature: {data['main']['temp']}°C\")\n",
        "        print(f\" Feels Like: {data['main']['feels_like']}°C\")\n",
        "        print(f\" Condition: {data['weather'][0]['description'].capitalize()}\")\n",
        "        print(f\" Humidity: {data['main']['humidity']}%\")\n",
        "        print(f\" Wind Speed: {data['wind']['speed']} m/s\")\n",
        "    else:\n",
        "        print(\"City not found or error in API call!\")\n",
        "\n",
        "# Replace with your actual API key\n",
        "api_key = '2d69abb9e2ea0a467bd5478d1ff086ed'\n",
        "city_name = input(\"Enter city name: \")\n",
        "\n",
        "get_weather(city_name, api_key)\n"
      ],
      "metadata": {
        "colab": {
          "base_uri": "https://localhost:8080/"
        },
        "id": "G3qOSnYdOu8x",
        "outputId": "c37f7092-7db6-4ca5-e983-fcb761552c9d"
      },
      "execution_count": null,
      "outputs": [
        {
          "output_type": "stream",
          "name": "stdout",
          "text": [
            "Enter city name: jodhpur\n",
            "Weather in Jodhpur, IN:\n",
            " Temperature: 31.48°C\n",
            " Feels Like: 34.84°C\n",
            " Condition: Broken clouds\n",
            " Humidity: 56%\n",
            " Wind Speed: 7.28 m/s\n"
          ]
        }
      ]
    }
  ]
}